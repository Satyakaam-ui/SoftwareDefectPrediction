{
 "cells": [
  {
   "cell_type": "code",
   "execution_count": 1,
   "metadata": {},
   "outputs": [],
   "source": [
    "import numpy as np\n",
    "import pandas as pd\n",
    "import matplotlib.pyplot as plt\n",
    "import seaborn as sns\n",
    "from sklearn.model_selection import train_test_split\n",
    "from sklearn.preprocessing import StandardScaler\n",
    "from sklearn.decomposition import PCA\n",
    "from sklearn.naive_bayes import MultinomialNB\n",
    "from sklearn.metrics import accuracy_score\n",
    "%matplotlib inline"
   ]
  },
  {
   "cell_type": "markdown",
   "metadata": {},
   "source": [
    "Task 1: Data pre-processing and data exploration (6 marks)\n",
    "\n",
    "A:"
   ]
  },
  {
   "cell_type": "code",
   "execution_count": 2,
   "metadata": {},
   "outputs": [],
   "source": [
    "train_var = pd.read_csv('trainingSet.csv')\n",
    "test_var = pd.read_csv('testingSet.csv')"
   ]
  },
  {
   "cell_type": "code",
   "execution_count": 4,
   "metadata": {
    "scrolled": true
   },
   "outputs": [
    {
     "data": {
      "text/html": [
       "<div>\n",
       "<style scoped>\n",
       "    .dataframe tbody tr th:only-of-type {\n",
       "        vertical-align: middle;\n",
       "    }\n",
       "\n",
       "    .dataframe tbody tr th {\n",
       "        vertical-align: top;\n",
       "    }\n",
       "\n",
       "    .dataframe thead th {\n",
       "        text-align: right;\n",
       "    }\n",
       "</style>\n",
       "<table border=\"1\" class=\"dataframe\">\n",
       "  <thead>\n",
       "    <tr style=\"text-align: right;\">\n",
       "      <th></th>\n",
       "      <th>LOC_BLANK</th>\n",
       "      <th>BRANCH_COUNT</th>\n",
       "      <th>LOC_CODE_AND_COMMENT</th>\n",
       "      <th>LOC_COMMENTS</th>\n",
       "      <th>CYCLOMATIC_COMPLEXITY</th>\n",
       "      <th>DESIGN_COMPLEXITY</th>\n",
       "      <th>ESSENTIAL_COMPLEXITY</th>\n",
       "      <th>LOC_EXECUTABLE</th>\n",
       "      <th>NUM_OPERANDS</th>\n",
       "      <th>NUM_OPERATORS</th>\n",
       "      <th>NUM_UNIQUE_OPERANDS</th>\n",
       "      <th>NUM_UNIQUE_OPERATORS</th>\n",
       "      <th>LOC_TOTAL</th>\n",
       "      <th>DEFECTIVE</th>\n",
       "    </tr>\n",
       "  </thead>\n",
       "  <tbody>\n",
       "    <tr>\n",
       "      <th>0</th>\n",
       "      <td>0</td>\n",
       "      <td>1</td>\n",
       "      <td>0</td>\n",
       "      <td>0</td>\n",
       "      <td>1</td>\n",
       "      <td>1</td>\n",
       "      <td>1</td>\n",
       "      <td>7</td>\n",
       "      <td>12</td>\n",
       "      <td>19</td>\n",
       "      <td>7</td>\n",
       "      <td>4</td>\n",
       "      <td>9</td>\n",
       "      <td>1</td>\n",
       "    </tr>\n",
       "    <tr>\n",
       "      <th>1</th>\n",
       "      <td>2</td>\n",
       "      <td>1</td>\n",
       "      <td>0</td>\n",
       "      <td>0</td>\n",
       "      <td>1</td>\n",
       "      <td>1</td>\n",
       "      <td>1</td>\n",
       "      <td>6</td>\n",
       "      <td>8</td>\n",
       "      <td>8</td>\n",
       "      <td>6</td>\n",
       "      <td>4</td>\n",
       "      <td>10</td>\n",
       "      <td>-1</td>\n",
       "    </tr>\n",
       "    <tr>\n",
       "      <th>2</th>\n",
       "      <td>3</td>\n",
       "      <td>9</td>\n",
       "      <td>0</td>\n",
       "      <td>3</td>\n",
       "      <td>1</td>\n",
       "      <td>1</td>\n",
       "      <td>1</td>\n",
       "      <td>24</td>\n",
       "      <td>22</td>\n",
       "      <td>33</td>\n",
       "      <td>13</td>\n",
       "      <td>11</td>\n",
       "      <td>33</td>\n",
       "      <td>1</td>\n",
       "    </tr>\n",
       "    <tr>\n",
       "      <th>3</th>\n",
       "      <td>0</td>\n",
       "      <td>1</td>\n",
       "      <td>0</td>\n",
       "      <td>0</td>\n",
       "      <td>1</td>\n",
       "      <td>1</td>\n",
       "      <td>1</td>\n",
       "      <td>1</td>\n",
       "      <td>1</td>\n",
       "      <td>2</td>\n",
       "      <td>1</td>\n",
       "      <td>2</td>\n",
       "      <td>4</td>\n",
       "      <td>-1</td>\n",
       "    </tr>\n",
       "    <tr>\n",
       "      <th>4</th>\n",
       "      <td>0</td>\n",
       "      <td>1</td>\n",
       "      <td>0</td>\n",
       "      <td>0</td>\n",
       "      <td>1</td>\n",
       "      <td>1</td>\n",
       "      <td>1</td>\n",
       "      <td>7</td>\n",
       "      <td>10</td>\n",
       "      <td>15</td>\n",
       "      <td>8</td>\n",
       "      <td>8</td>\n",
       "      <td>12</td>\n",
       "      <td>-1</td>\n",
       "    </tr>\n",
       "  </tbody>\n",
       "</table>\n",
       "</div>"
      ],
      "text/plain": [
       "   LOC_BLANK  BRANCH_COUNT  LOC_CODE_AND_COMMENT  LOC_COMMENTS  \\\n",
       "0          0             1                     0             0   \n",
       "1          2             1                     0             0   \n",
       "2          3             9                     0             3   \n",
       "3          0             1                     0             0   \n",
       "4          0             1                     0             0   \n",
       "\n",
       "   CYCLOMATIC_COMPLEXITY  DESIGN_COMPLEXITY  ESSENTIAL_COMPLEXITY  \\\n",
       "0                      1                  1                     1   \n",
       "1                      1                  1                     1   \n",
       "2                      1                  1                     1   \n",
       "3                      1                  1                     1   \n",
       "4                      1                  1                     1   \n",
       "\n",
       "   LOC_EXECUTABLE  NUM_OPERANDS  NUM_OPERATORS  NUM_UNIQUE_OPERANDS  \\\n",
       "0               7            12             19                    7   \n",
       "1               6             8              8                    6   \n",
       "2              24            22             33                   13   \n",
       "3               1             1              2                    1   \n",
       "4               7            10             15                    8   \n",
       "\n",
       "   NUM_UNIQUE_OPERATORS  LOC_TOTAL  DEFECTIVE  \n",
       "0                     4          9          1  \n",
       "1                     4         10         -1  \n",
       "2                    11         33          1  \n",
       "3                     2          4         -1  \n",
       "4                     8         12         -1  "
      ]
     },
     "execution_count": 4,
     "metadata": {},
     "output_type": "execute_result"
    }
   ],
   "source": [
    "train_var.head()"
   ]
  },
  {
   "cell_type": "markdown",
   "metadata": {},
   "source": [
    "B:"
   ]
  },
  {
   "cell_type": "code",
   "execution_count": 18,
   "metadata": {},
   "outputs": [
    {
     "data": {
      "image/png": "[encoded data removed]",
      "text/plain": [
       "<Figure size 432x288 with 1 Axes>"
      ]
     },
     "metadata": {},
     "output_type": "display_data"
    }
   ],
   "source": [
    "sns.countplot(x=\"DEFECTIVE\", data=train_var)\n",
    "plt.show()"
   ]
  },
  {
   "cell_type": "code",
   "execution_count": 11,
   "metadata": {},
   "outputs": [
    {
     "data": {
      "image/png": "[encoded data removed]",
      "text/plain": [
       "<Figure size 432x288 with 1 Axes>"
      ]
     },
     "metadata": {},
     "output_type": "display_data"
    }
   ],
   "source": [
    "sns.countplot(x=\"DEFECTIVE\", data=test_var)\n",
    "plt.show()"
   ]
  },
  {
   "cell_type": "markdown",
   "metadata": {},
   "source": [
    "C:"
   ]
  },
  {
   "cell_type": "code",
   "execution_count": 19,
   "metadata": {},
   "outputs": [
    {
     "data": {
      "image/png": "[encoded data removed]",
      "text/plain": [
       "<Figure size 432x288 with 1 Axes>"
      ]
     },
     "metadata": {},
     "output_type": "display_data"
    }
   ],
   "source": [
    "sns.boxplot(x='DEFECTIVE', y='LOC_EXECUTABLE', data= train_var)\n",
    "plt.show()"
   ]
  },
  {
   "cell_type": "markdown",
   "metadata": {},
   "source": [
    "D:"
   ]
  },
  {
   "cell_type": "code",
   "execution_count": 46,
   "metadata": {},
   "outputs": [
    {
     "data": {
      "image/png": "[encoded data removed]",
      "text/plain": [
       "<Figure size 360x360 with 1 Axes>"
      ]
     },
     "metadata": {},
     "output_type": "display_data"
    }
   ],
   "source": [
    "sns.FacetGrid(train_var, size = 5).map(plt.scatter, 'LOC_TOTAL', 'NUM_OPERATORS', color = ['red','blue'])\n",
    "plt.show()"
   ]
  },
  {
   "cell_type": "markdown",
   "metadata": {},
   "source": [
    "E:"
   ]
  },
  {
   "cell_type": "code",
   "execution_count": 22,
   "metadata": {},
   "outputs": [],
   "source": [
    "inputs = train_var.iloc[:,:13]\n",
    "labels = train_var.iloc[:,-1]"
   ]
  },
  {
   "cell_type": "code",
   "execution_count": 23,
   "metadata": {},
   "outputs": [
    {
     "data": {
      "text/html": [
       "<div>\n",
       "<style scoped>\n",
       "    .dataframe tbody tr th:only-of-type {\n",
       "        vertical-align: middle;\n",
       "    }\n",
       "\n",
       "    .dataframe tbody tr th {\n",
       "        vertical-align: top;\n",
       "    }\n",
       "\n",
       "    .dataframe thead th {\n",
       "        text-align: right;\n",
       "    }\n",
       "</style>\n",
       "<table border=\"1\" class=\"dataframe\">\n",
       "  <thead>\n",
       "    <tr style=\"text-align: right;\">\n",
       "      <th></th>\n",
       "      <th>LOC_BLANK</th>\n",
       "      <th>BRANCH_COUNT</th>\n",
       "      <th>LOC_CODE_AND_COMMENT</th>\n",
       "      <th>LOC_COMMENTS</th>\n",
       "      <th>CYCLOMATIC_COMPLEXITY</th>\n",
       "      <th>DESIGN_COMPLEXITY</th>\n",
       "      <th>ESSENTIAL_COMPLEXITY</th>\n",
       "      <th>LOC_EXECUTABLE</th>\n",
       "      <th>NUM_OPERANDS</th>\n",
       "      <th>NUM_OPERATORS</th>\n",
       "      <th>NUM_UNIQUE_OPERANDS</th>\n",
       "      <th>NUM_UNIQUE_OPERATORS</th>\n",
       "      <th>LOC_TOTAL</th>\n",
       "    </tr>\n",
       "  </thead>\n",
       "  <tbody>\n",
       "    <tr>\n",
       "      <th>0</th>\n",
       "      <td>0</td>\n",
       "      <td>1</td>\n",
       "      <td>0</td>\n",
       "      <td>0</td>\n",
       "      <td>1</td>\n",
       "      <td>1</td>\n",
       "      <td>1</td>\n",
       "      <td>7</td>\n",
       "      <td>12</td>\n",
       "      <td>19</td>\n",
       "      <td>7</td>\n",
       "      <td>4</td>\n",
       "      <td>9</td>\n",
       "    </tr>\n",
       "    <tr>\n",
       "      <th>1</th>\n",
       "      <td>2</td>\n",
       "      <td>1</td>\n",
       "      <td>0</td>\n",
       "      <td>0</td>\n",
       "      <td>1</td>\n",
       "      <td>1</td>\n",
       "      <td>1</td>\n",
       "      <td>6</td>\n",
       "      <td>8</td>\n",
       "      <td>8</td>\n",
       "      <td>6</td>\n",
       "      <td>4</td>\n",
       "      <td>10</td>\n",
       "    </tr>\n",
       "    <tr>\n",
       "      <th>2</th>\n",
       "      <td>3</td>\n",
       "      <td>9</td>\n",
       "      <td>0</td>\n",
       "      <td>3</td>\n",
       "      <td>1</td>\n",
       "      <td>1</td>\n",
       "      <td>1</td>\n",
       "      <td>24</td>\n",
       "      <td>22</td>\n",
       "      <td>33</td>\n",
       "      <td>13</td>\n",
       "      <td>11</td>\n",
       "      <td>33</td>\n",
       "    </tr>\n",
       "    <tr>\n",
       "      <th>3</th>\n",
       "      <td>0</td>\n",
       "      <td>1</td>\n",
       "      <td>0</td>\n",
       "      <td>0</td>\n",
       "      <td>1</td>\n",
       "      <td>1</td>\n",
       "      <td>1</td>\n",
       "      <td>1</td>\n",
       "      <td>1</td>\n",
       "      <td>2</td>\n",
       "      <td>1</td>\n",
       "      <td>2</td>\n",
       "      <td>4</td>\n",
       "    </tr>\n",
       "    <tr>\n",
       "      <th>4</th>\n",
       "      <td>0</td>\n",
       "      <td>1</td>\n",
       "      <td>0</td>\n",
       "      <td>0</td>\n",
       "      <td>1</td>\n",
       "      <td>1</td>\n",
       "      <td>1</td>\n",
       "      <td>7</td>\n",
       "      <td>10</td>\n",
       "      <td>15</td>\n",
       "      <td>8</td>\n",
       "      <td>8</td>\n",
       "      <td>12</td>\n",
       "    </tr>\n",
       "  </tbody>\n",
       "</table>\n",
       "</div>"
      ],
      "text/plain": [
       "   LOC_BLANK  BRANCH_COUNT  LOC_CODE_AND_COMMENT  LOC_COMMENTS  \\\n",
       "0          0             1                     0             0   \n",
       "1          2             1                     0             0   \n",
       "2          3             9                     0             3   \n",
       "3          0             1                     0             0   \n",
       "4          0             1                     0             0   \n",
       "\n",
       "   CYCLOMATIC_COMPLEXITY  DESIGN_COMPLEXITY  ESSENTIAL_COMPLEXITY  \\\n",
       "0                      1                  1                     1   \n",
       "1                      1                  1                     1   \n",
       "2                      1                  1                     1   \n",
       "3                      1                  1                     1   \n",
       "4                      1                  1                     1   \n",
       "\n",
       "   LOC_EXECUTABLE  NUM_OPERANDS  NUM_OPERATORS  NUM_UNIQUE_OPERANDS  \\\n",
       "0               7            12             19                    7   \n",
       "1               6             8              8                    6   \n",
       "2              24            22             33                   13   \n",
       "3               1             1              2                    1   \n",
       "4               7            10             15                    8   \n",
       "\n",
       "   NUM_UNIQUE_OPERATORS  LOC_TOTAL  \n",
       "0                     4          9  \n",
       "1                     4         10  \n",
       "2                    11         33  \n",
       "3                     2          4  \n",
       "4                     8         12  "
      ]
     },
     "execution_count": 23,
     "metadata": {},
     "output_type": "execute_result"
    }
   ],
   "source": [
    "inputs.head()"
   ]
  },
  {
   "cell_type": "code",
   "execution_count": 24,
   "metadata": {},
   "outputs": [],
   "source": [
    "x_train, x_val, y_train, y_val = train_test_split(inputs, labels, test_size=0.55)"
   ]
  },
  {
   "cell_type": "code",
   "execution_count": 25,
   "metadata": {},
   "outputs": [
    {
     "data": {
      "text/plain": [
       "(163, 13)"
      ]
     },
     "execution_count": 25,
     "metadata": {},
     "output_type": "execute_result"
    }
   ],
   "source": [
    "x_train.shape"
   ]
  },
  {
   "cell_type": "code",
   "execution_count": 26,
   "metadata": {},
   "outputs": [
    {
     "data": {
      "text/plain": [
       "(201, 13)"
      ]
     },
     "execution_count": 26,
     "metadata": {},
     "output_type": "execute_result"
    }
   ],
   "source": [
    "x_val.shape"
   ]
  },
  {
   "cell_type": "markdown",
   "metadata": {},
   "source": [
    "Task 2: Do a principal component analysis (10 marks) \n",
    "\n",
    "A:"
   ]
  },
  {
   "cell_type": "code",
   "execution_count": 27,
   "metadata": {},
   "outputs": [],
   "source": [
    "scalar = StandardScaler()\n",
    "normalized_data = scalar.fit_transform(inputs) # Comments:Standardising the data before applying PCA. It's important to standardize the data before PCA to make sure all our features are in same scale."
   ]
  },
  {
   "cell_type": "code",
   "execution_count": 28,
   "metadata": {},
   "outputs": [],
   "source": [
    "pca = PCA()\n",
    "pca_train = pca.fit_transform(normalized_data)"
   ]
  },
  {
   "cell_type": "markdown",
   "metadata": {},
   "source": [
    "B:"
   ]
  },
  {
   "cell_type": "code",
   "execution_count": 29,
   "metadata": {},
   "outputs": [
    {
     "data": {
      "image/png": "[encoded data removed]",
      "text/plain": [
       "<Figure size 432x288 with 1 Axes>"
      ]
     },
     "metadata": {},
     "output_type": "display_data"
    }
   ],
   "source": [
    "plt.plot(pca.explained_variance_)\n",
    "plt.show()"
   ]
  },
  {
   "cell_type": "markdown",
   "metadata": {},
   "source": [
    "C:"
   ]
  },
  {
   "cell_type": "code",
   "execution_count": 30,
   "metadata": {},
   "outputs": [],
   "source": [
    "test_inputs = test_var.iloc[:,:-1]\n",
    "test_labels = test_var.iloc[:,-1]"
   ]
  },
  {
   "cell_type": "code",
   "execution_count": 32,
   "metadata": {},
   "outputs": [],
   "source": [
    "normalized_test_data = scalar.fit_transform(test_inputs)"
   ]
  },
  {
   "cell_type": "code",
   "execution_count": 33,
   "metadata": {},
   "outputs": [],
   "source": [
    "pca1 = pca.fit(normalized_data)\n",
    "pca_test = pca1.transform(normalized_test_data)"
   ]
  },
  {
   "cell_type": "markdown",
   "metadata": {},
   "source": [
    "D:"
   ]
  },
  {
   "cell_type": "code",
   "execution_count": 34,
   "metadata": {},
   "outputs": [
    {
     "data": {
      "image/png": "[encoded data removed]",
      "text/plain": [
       "<Figure size 432x288 with 2 Axes>"
      ]
     },
     "metadata": {},
     "output_type": "display_data"
    }
   ],
   "source": [
    "fig,ax = plt.subplots(2)\n",
    "ax[0].scatter(pca_train[:,0],pca_train[:,1],c=labels)\n",
    "ax[1].scatter(pca_test[:,0],pca_test[:,1],c=test_labels)\n",
    "plt.show()"
   ]
  },
  {
   "cell_type": "markdown",
   "metadata": {},
   "source": [
    "Task 3: Do a classification using the Naïve Bayes Classification model (4 marks)"
   ]
  },
  {
   "cell_type": "code",
   "execution_count": 35,
   "metadata": {},
   "outputs": [
    {
     "name": "stdout",
     "output_type": "stream",
     "text": [
      "for alpha = 0.001 accuracy is 0.6401098901098901\n",
      "for alpha = 0.01 accuracy is 0.6401098901098901\n",
      "for alpha = 0.1 accuracy is 0.6401098901098901\n",
      "for alpha = 1 accuracy is 0.6401098901098901\n",
      "for alpha = 10 accuracy is 0.6346153846153846\n",
      "for alpha = 100 accuracy is 0.6181318681318682\n",
      "for alpha = 1000 accuracy is 0.5879120879120879\n"
     ]
    }
   ],
   "source": [
    "alpha = [0.001, 0.01, 0.1, 1, 10, 100, 1000]\n",
    "\n",
    "for i in alpha:\n",
    "    model = MultinomialNB(alpha=i).fit(inputs, labels)\n",
    "    preds = model.predict(inputs)\n",
    "    accuracy = accuracy_score(labels, preds)\n",
    "    print('for alpha =',i, 'accuracy is', accuracy)"
   ]
  },
  {
   "cell_type": "code",
   "execution_count": 36,
   "metadata": {},
   "outputs": [
    {
     "name": "stdout",
     "output_type": "stream",
     "text": [
      "test accuracy is 0.6029411764705882\n"
     ]
    }
   ],
   "source": [
    "model = MultinomialNB(alpha=1).fit(inputs, labels)\n",
    "preds = model.predict(test_inputs)\n",
    "accuracy = accuracy_score(test_labels, preds) \n",
    "print('test accuracy is', accuracy)"
   ]
  },
  {
   "cell_type": "markdown",
   "metadata": {},
   "source": [
    "Task 4: Investigate how the number of features in the training dataset affects the model performance on the validation set (16 marks)\n",
    "\n",
    "\n",
    "A:\n"
   ]
  },
  {
   "cell_type": "code",
   "execution_count": 38,
   "metadata": {},
   "outputs": [],
   "source": [
    "train_accuracy = []\n",
    "\n",
    "model = MultinomialNB(alpha=1)"
   ]
  },
  {
   "cell_type": "code",
   "execution_count": 40,
   "metadata": {},
   "outputs": [
    {
     "name": "stdout",
     "output_type": "stream",
     "text": [
      "accuracy 1: 0.5276073619631901\n",
      "accuracy 2: 0.4785276073619632\n",
      "accuracy 3: 0.5337423312883436\n",
      "accuracy 4: 0.5276073619631901\n",
      "accuracy 5: 0.5398773006134969\n",
      "accuracy 6: 0.5398773006134969\n",
      "accuracy 7: 0.6134969325153374\n",
      "accuracy 8: 0.6073619631901841\n",
      "accuracy 9: 0.5828220858895705\n",
      "accuracy 10: 0.5950920245398773\n",
      "accuracy 11: 0.6503067484662577\n",
      "accuracy 12: 0.6441717791411042\n",
      "accuracy 13: 0.6257668711656442\n"
     ]
    }
   ],
   "source": [
    "model.fit(x_train.iloc[:,:1], y_train)\n",
    "preds = model.predict(x_train.iloc[:,:1])\n",
    "accuracy1 = accuracy_score(y_train, preds)\n",
    "train_accuracy.append(accuracy1)\n",
    "print('accuracy 1:', accuracy1)\n",
    "\n",
    "model.fit(x_train.iloc[:,:2], y_train)\n",
    "preds = model.predict(x_train.iloc[:,:2])\n",
    "accuracy2 = accuracy_score(y_train, preds)\n",
    "train_accuracy.append(accuracy2)\n",
    "print('accuracy 2:', accuracy2)\n",
    "\n",
    "model.fit(x_train.iloc[:,:3], y_train)\n",
    "preds = model.predict(x_train.iloc[:,:3])\n",
    "accuracy3 = accuracy_score(y_train, preds)\n",
    "train_accuracy.append(accuracy3)\n",
    "print('accuracy 3:', accuracy3)\n",
    "\n",
    "model.fit(x_train.iloc[:,:4], y_train)\n",
    "preds = model.predict(x_train.iloc[:,:4])\n",
    "accuracy4 = accuracy_score(y_train, preds)\n",
    "train_accuracy.append(accuracy4)\n",
    "print('accuracy 4:', accuracy4)\n",
    "\n",
    "model.fit(x_train.iloc[:,:5], y_train)\n",
    "preds = model.predict(x_train.iloc[:,:5])\n",
    "accuracy5 = accuracy_score(y_train, preds)\n",
    "train_accuracy.append(accuracy5)\n",
    "print('accuracy 5:', accuracy5)\n",
    "\n",
    "model.fit(x_train.iloc[:,:6], y_train)\n",
    "preds = model.predict(x_train.iloc[:,:6])\n",
    "accuracy6 = accuracy_score(y_train, preds)\n",
    "train_accuracy.append(accuracy6)\n",
    "print('accuracy 6:', accuracy6)\n",
    "\n",
    "model.fit(x_train.iloc[:,:7], y_train)\n",
    "preds = model.predict(x_train.iloc[:,:7])\n",
    "accuracy7 = accuracy_score(y_train, preds)\n",
    "train_accuracy.append(accuracy7)\n",
    "print('accuracy 7:', accuracy7)\n",
    "\n",
    "model.fit(x_train.iloc[:,:8], y_train)\n",
    "preds = model.predict(x_train.iloc[:,:8])\n",
    "accuracy8 = accuracy_score(y_train, preds)\n",
    "train_accuracy.append(accuracy8)\n",
    "print('accuracy 8:', accuracy8)\n",
    "\n",
    "model.fit(x_train.iloc[:,:9], y_train)\n",
    "preds = model.predict(x_train.iloc[:,:9])\n",
    "accuracy9 = accuracy_score(y_train, preds)\n",
    "train_accuracy.append(accuracy9)\n",
    "print('accuracy 9:', accuracy9)\n",
    "\n",
    "model.fit(x_train.iloc[:,:10], y_train)\n",
    "preds = model.predict(x_train.iloc[:,:10])\n",
    "accuracy10 = accuracy_score(y_train, preds)\n",
    "train_accuracy.append(accuracy10)\n",
    "print('accuracy 10:', accuracy10)\n",
    "\n",
    "model.fit(x_train.iloc[:,:11], y_train)\n",
    "preds = model.predict(x_train.iloc[:,:11])\n",
    "accuracy11 = accuracy_score(y_train, preds)\n",
    "train_accuracy.append(accuracy11)\n",
    "print('accuracy 11:', accuracy11)\n",
    "\n",
    "model.fit(x_train.iloc[:,:12], y_train)\n",
    "preds = model.predict(x_train.iloc[:,:12])\n",
    "accuracy12 = accuracy_score(y_train, preds)\n",
    "train_accuracy.append(accuracy12)\n",
    "print('accuracy 12:', accuracy12)\n",
    "\n",
    "model.fit(x_train.iloc[:,:13], y_train)\n",
    "preds = model.predict(x_train.iloc[:,:13])\n",
    "accuracy13 = accuracy_score(y_train, preds)\n",
    "train_accuracy.append(accuracy13)\n",
    "print('accuracy 13:', accuracy13)"
   ]
  },
  {
   "cell_type": "code",
   "execution_count": 41,
   "metadata": {},
   "outputs": [],
   "source": [
    "val_accuracy = []\n",
    "\n",
    "model = MultinomialNB(alpha=1)"
   ]
  },
  {
   "cell_type": "code",
   "execution_count": 42,
   "metadata": {},
   "outputs": [
    {
     "name": "stdout",
     "output_type": "stream",
     "text": [
      "accuracy 1: 0.47761194029850745\n",
      "accuracy 2: 0.4577114427860697\n",
      "accuracy 3: 0.4975124378109453\n",
      "accuracy 4: 0.5124378109452736\n",
      "accuracy 5: 0.5124378109452736\n",
      "accuracy 6: 0.5323383084577115\n",
      "accuracy 7: 0.5920398009950248\n",
      "accuracy 8: 0.5870646766169154\n",
      "accuracy 9: 0.6666666666666666\n",
      "accuracy 10: 0.6716417910447762\n",
      "accuracy 11: 0.6616915422885572\n",
      "accuracy 12: 0.6517412935323383\n",
      "accuracy 13: 0.6467661691542289\n"
     ]
    }
   ],
   "source": [
    "model.fit(x_train.iloc[:,:1], y_train)\n",
    "preds = model.predict(x_val.iloc[:,:1])\n",
    "accuracy1 = accuracy_score(y_val, preds)\n",
    "val_accuracy.append(accuracy1)\n",
    "print('accuracy 1:', accuracy1)\n",
    "\n",
    "model.fit(x_train.iloc[:,:2], y_train)\n",
    "preds = model.predict(x_val.iloc[:,:2])\n",
    "accuracy2 = accuracy_score(y_val, preds)\n",
    "val_accuracy.append(accuracy2)\n",
    "print('accuracy 2:', accuracy2)\n",
    "\n",
    "model.fit(x_train.iloc[:,:3], y_train)\n",
    "preds = model.predict(x_val.iloc[:,:3])\n",
    "accuracy3 = accuracy_score(y_val, preds)\n",
    "val_accuracy.append(accuracy3)\n",
    "print('accuracy 3:', accuracy3)\n",
    "\n",
    "model.fit(x_train.iloc[:,:4], y_train)\n",
    "preds = model.predict(x_val.iloc[:,:4])\n",
    "accuracy4 = accuracy_score(y_val, preds)\n",
    "val_accuracy.append(accuracy4)\n",
    "print('accuracy 4:', accuracy4)\n",
    "\n",
    "model.fit(x_train.iloc[:,:5], y_train)\n",
    "preds = model.predict(x_val.iloc[:,:5])\n",
    "accuracy5 = accuracy_score(y_val, preds)\n",
    "val_accuracy.append(accuracy5)\n",
    "print('accuracy 5:', accuracy5)\n",
    "\n",
    "model.fit(x_train.iloc[:,:6], y_train)\n",
    "preds = model.predict(x_val.iloc[:,:6])\n",
    "accuracy6 = accuracy_score(y_val, preds)\n",
    "val_accuracy.append(accuracy6)\n",
    "print('accuracy 6:', accuracy6)\n",
    "\n",
    "model.fit(x_train.iloc[:,:7], y_train)\n",
    "preds = model.predict(x_val.iloc[:,:7])\n",
    "accuracy7 = accuracy_score(y_val, preds)\n",
    "val_accuracy.append(accuracy7)\n",
    "print('accuracy 7:', accuracy7)\n",
    "\n",
    "model.fit(x_train.iloc[:,:8], y_train)\n",
    "preds = model.predict(x_val.iloc[:,:8])\n",
    "accuracy8 = accuracy_score(y_val, preds)\n",
    "val_accuracy.append(accuracy8)\n",
    "print('accuracy 8:', accuracy8)\n",
    "\n",
    "model.fit(x_train.iloc[:,:9], y_train)\n",
    "preds = model.predict(x_val.iloc[:,:9])\n",
    "accuracy9 = accuracy_score(y_val, preds)\n",
    "val_accuracy.append(accuracy9)\n",
    "print('accuracy 9:', accuracy9)\n",
    "\n",
    "model.fit(x_train.iloc[:,:10], y_train)\n",
    "preds = model.predict(x_val.iloc[:,:10])\n",
    "accuracy10 = accuracy_score(y_val, preds)\n",
    "val_accuracy.append(accuracy10)\n",
    "print('accuracy 10:', accuracy10)\n",
    "\n",
    "model.fit(x_train.iloc[:,:11], y_train)\n",
    "preds = model.predict(x_val.iloc[:,:11])\n",
    "accuracy11 = accuracy_score(y_val, preds)\n",
    "val_accuracy.append(accuracy11)\n",
    "print('accuracy 11:', accuracy11)\n",
    "\n",
    "model.fit(x_train.iloc[:,:12], y_train)\n",
    "preds = model.predict(x_val.iloc[:,:12])\n",
    "accuracy12 = accuracy_score(y_val, preds)\n",
    "val_accuracy.append(accuracy12)\n",
    "print('accuracy 12:', accuracy12)\n",
    "\n",
    "model.fit(x_train.iloc[:,:13], y_train)\n",
    "preds = model.predict(x_val.iloc[:,:13])\n",
    "accuracy13 = accuracy_score(y_val, preds)\n",
    "val_accuracy.append(accuracy13)\n",
    "print('accuracy 13:', accuracy13)"
   ]
  },
  {
   "cell_type": "code",
   "execution_count": 43,
   "metadata": {},
   "outputs": [
    {
     "data": {
      "image/png": "[encoded data removed]",
      "text/plain": [
       "<Figure size 432x288 with 1 Axes>"
      ]
     },
     "metadata": {},
     "output_type": "display_data"
    }
   ],
   "source": [
    "plt.plot(train_accuracy, label= 'Train Accuracy')\n",
    "plt.plot(val_accuracy, label= 'Validation Accuracy')\n",
    "plt.legend()\n",
    "\n",
    "plt.show()"
   ]
  },
  {
   "cell_type": "markdown",
   "metadata": {},
   "source": [
    "B:\n",
    "\n",
    "The number of features I'd like to chose are 10 since, by using 10 features I've seen that validation set has the highest accuracy. Even though the train model with 10 features has a accuracy of 59.5% the validation model has a accuracy of 67%"
   ]
  },
  {
   "cell_type": "markdown",
   "metadata": {},
   "source": [
    "C:"
   ]
  },
  {
   "cell_type": "code",
   "execution_count": 44,
   "metadata": {},
   "outputs": [
    {
     "name": "stdout",
     "output_type": "stream",
     "text": [
      "train accuracy: 0.6236263736263736\n"
     ]
    }
   ],
   "source": [
    "model.fit(inputs.iloc[:,:10], labels)\n",
    "preds = model.predict(inputs.iloc[:,:10])\n",
    "accuracy = accuracy_score(labels, preds)\n",
    "print('train accuracy:', accuracy)"
   ]
  },
  {
   "cell_type": "code",
   "execution_count": 45,
   "metadata": {},
   "outputs": [
    {
     "name": "stdout",
     "output_type": "stream",
     "text": [
      "test accuracy: 0.6029411764705882\n"
     ]
    }
   ],
   "source": [
    "model.fit(inputs.iloc[:,:10], labels)\n",
    "preds = model.predict(test_inputs.iloc[:,:10])\n",
    "accuracy = accuracy_score(test_labels, preds)\n",
    "print('test accuracy:', accuracy)"
   ]
  },
  {
   "cell_type": "markdown",
   "metadata": {},
   "source": [
    "Task 5: Summarize your findings, write your conclusions using critical thinking (no more than 100 words) and write it down in your Jupyter notebook (4 marks).\n",
    "\n",
    "\n",
    "By applying the multinomial Naive Bayes on this data set, I've found that using 0nly 10 features from the data gave me the best validation results. Therefore, I've used 10 features to run the Multinomial Naive Bayes on the original data set. In the end, I've seen the accuracy rates of 62.3% for training data and 60.2% for testing data.\n",
    "\n",
    "Conclusion: this Naive Bayes model can predict the unseen data with a 60.2% accuracy rate."
   ]
  },
  {
   "cell_type": "code",
   "execution_count": null,
   "metadata": {},
   "outputs": [],
   "source": []
  }
 ],
 "metadata": {
  "kernelspec": {
   "display_name": "Python 3",
   "language": "python",
   "name": "python3"
  },
  "language_info": {
   "codemirror_mode": {
    "name": "ipython",
    "version": 3
   },
   "file_extension": ".py",
   "mimetype": "text/x-python",
   "name": "python",
   "nbconvert_exporter": "python",
   "pygments_lexer": "ipython3",
   "version": "3.6.5"
  }
 },
 "nbformat": 4,
 "nbformat_minor": 2
}
